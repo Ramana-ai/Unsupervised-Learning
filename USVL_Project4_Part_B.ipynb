{
 "cells": [
  {
   "cell_type": "markdown",
   "id": "4aa13786",
   "metadata": {},
   "source": [
    "### PART B\n",
    "#### DOMAIN: Automobile\n",
    "#### CONTEXT :\n",
    "- The purpose is to classify a given silhouette as one of three types of vehicle, using a set of features extracted from the silhouette. The vehicle may be viewed from one of many different angles.\n",
    "#### DATA DESCRIPTION:\n",
    "- The data contains features extracted from the silhouette of vehicles in different angles. Four \"Corgie\" model vehicles were \n",
    "  used for the experiment: a double decker bus, Cheverolet van, Saab 9000 and an Opel Manta 400 cars. This particular \n",
    "  combination of vehicles was chosen with the expectation that the bus, van and either one of the cars would be readily \n",
    "  distinguishable, but it would be more difficult to distinguish between the cars.\n",
    "- All the features are numeric i.e. geometric features extracted from the silhouette.\n",
    "#### PROJECT OBJECTIVE:\n",
    "- Apply dimensionality reduction technique – PCA and train a model and compare relative results"
   ]
  },
  {
   "cell_type": "code",
   "execution_count": 1,
   "id": "bf6d55b8",
   "metadata": {},
   "outputs": [],
   "source": [
    "# Numerical libraries\n",
    "import numpy as np   \n",
    "\n",
    "from sklearn.model_selection import train_test_split\n",
    "\n",
    "from sklearn.cluster import KMeans\n",
    "\n",
    "# to handle data in form of rows and columns \n",
    "import pandas as pd    \n",
    "\n",
    "# importing ploting libraries\n",
    "import matplotlib.pyplot as plt   \n",
    "\n",
    "#importing seaborn for statistical plots\n",
    "import seaborn as sns\n",
    "\n",
    "from sklearn import metrics\n",
    "\n",
    "import pandas as pd\n",
    "\n",
    "import warnings\n",
    "warnings.simplefilter('ignore')"
   ]
  },
  {
   "cell_type": "markdown",
   "id": "7ab345bd",
   "metadata": {},
   "source": [
    "### Q1: Data Understanding & Cleaning\n",
    "#### Q1A: Read ‘vehicle.csv’ and save as DataFrame."
   ]
  },
  {
   "cell_type": "code",
   "execution_count": 167,
   "id": "e059a590",
   "metadata": {},
   "outputs": [
    {
     "data": {
      "text/html": [
       "<div>\n",
       "<style scoped>\n",
       "    .dataframe tbody tr th:only-of-type {\n",
       "        vertical-align: middle;\n",
       "    }\n",
       "\n",
       "    .dataframe tbody tr th {\n",
       "        vertical-align: top;\n",
       "    }\n",
       "\n",
       "    .dataframe thead th {\n",
       "        text-align: right;\n",
       "    }\n",
       "</style>\n",
       "<table border=\"1\" class=\"dataframe\">\n",
       "  <thead>\n",
       "    <tr style=\"text-align: right;\">\n",
       "      <th></th>\n",
       "      <th>compactness</th>\n",
       "      <th>circularity</th>\n",
       "      <th>distance_circularity</th>\n",
       "      <th>radius_ratio</th>\n",
       "      <th>pr.axis_aspect_ratio</th>\n",
       "      <th>max.length_aspect_ratio</th>\n",
       "      <th>scatter_ratio</th>\n",
       "      <th>elongatedness</th>\n",
       "      <th>pr.axis_rectangularity</th>\n",
       "      <th>max.length_rectangularity</th>\n",
       "      <th>scaled_variance</th>\n",
       "      <th>scaled_variance.1</th>\n",
       "      <th>scaled_radius_of_gyration</th>\n",
       "      <th>scaled_radius_of_gyration.1</th>\n",
       "      <th>skewness_about</th>\n",
       "      <th>skewness_about.1</th>\n",
       "      <th>skewness_about.2</th>\n",
       "      <th>hollows_ratio</th>\n",
       "      <th>class</th>\n",
       "    </tr>\n",
       "  </thead>\n",
       "  <tbody>\n",
       "    <tr>\n",
       "      <th>0</th>\n",
       "      <td>95</td>\n",
       "      <td>48.0</td>\n",
       "      <td>83.0</td>\n",
       "      <td>178.0</td>\n",
       "      <td>72.0</td>\n",
       "      <td>10</td>\n",
       "      <td>162.0</td>\n",
       "      <td>42.0</td>\n",
       "      <td>20.0</td>\n",
       "      <td>159</td>\n",
       "      <td>176.0</td>\n",
       "      <td>379.0</td>\n",
       "      <td>184.0</td>\n",
       "      <td>70.0</td>\n",
       "      <td>6.0</td>\n",
       "      <td>16.0</td>\n",
       "      <td>187.0</td>\n",
       "      <td>197</td>\n",
       "      <td>van</td>\n",
       "    </tr>\n",
       "    <tr>\n",
       "      <th>1</th>\n",
       "      <td>91</td>\n",
       "      <td>41.0</td>\n",
       "      <td>84.0</td>\n",
       "      <td>141.0</td>\n",
       "      <td>57.0</td>\n",
       "      <td>9</td>\n",
       "      <td>149.0</td>\n",
       "      <td>45.0</td>\n",
       "      <td>19.0</td>\n",
       "      <td>143</td>\n",
       "      <td>170.0</td>\n",
       "      <td>330.0</td>\n",
       "      <td>158.0</td>\n",
       "      <td>72.0</td>\n",
       "      <td>9.0</td>\n",
       "      <td>14.0</td>\n",
       "      <td>189.0</td>\n",
       "      <td>199</td>\n",
       "      <td>van</td>\n",
       "    </tr>\n",
       "    <tr>\n",
       "      <th>2</th>\n",
       "      <td>104</td>\n",
       "      <td>50.0</td>\n",
       "      <td>106.0</td>\n",
       "      <td>209.0</td>\n",
       "      <td>66.0</td>\n",
       "      <td>10</td>\n",
       "      <td>207.0</td>\n",
       "      <td>32.0</td>\n",
       "      <td>23.0</td>\n",
       "      <td>158</td>\n",
       "      <td>223.0</td>\n",
       "      <td>635.0</td>\n",
       "      <td>220.0</td>\n",
       "      <td>73.0</td>\n",
       "      <td>14.0</td>\n",
       "      <td>9.0</td>\n",
       "      <td>188.0</td>\n",
       "      <td>196</td>\n",
       "      <td>car</td>\n",
       "    </tr>\n",
       "    <tr>\n",
       "      <th>3</th>\n",
       "      <td>93</td>\n",
       "      <td>41.0</td>\n",
       "      <td>82.0</td>\n",
       "      <td>159.0</td>\n",
       "      <td>63.0</td>\n",
       "      <td>9</td>\n",
       "      <td>144.0</td>\n",
       "      <td>46.0</td>\n",
       "      <td>19.0</td>\n",
       "      <td>143</td>\n",
       "      <td>160.0</td>\n",
       "      <td>309.0</td>\n",
       "      <td>127.0</td>\n",
       "      <td>63.0</td>\n",
       "      <td>6.0</td>\n",
       "      <td>10.0</td>\n",
       "      <td>199.0</td>\n",
       "      <td>207</td>\n",
       "      <td>van</td>\n",
       "    </tr>\n",
       "    <tr>\n",
       "      <th>4</th>\n",
       "      <td>85</td>\n",
       "      <td>44.0</td>\n",
       "      <td>70.0</td>\n",
       "      <td>205.0</td>\n",
       "      <td>103.0</td>\n",
       "      <td>52</td>\n",
       "      <td>149.0</td>\n",
       "      <td>45.0</td>\n",
       "      <td>19.0</td>\n",
       "      <td>144</td>\n",
       "      <td>241.0</td>\n",
       "      <td>325.0</td>\n",
       "      <td>188.0</td>\n",
       "      <td>127.0</td>\n",
       "      <td>9.0</td>\n",
       "      <td>11.0</td>\n",
       "      <td>180.0</td>\n",
       "      <td>183</td>\n",
       "      <td>bus</td>\n",
       "    </tr>\n",
       "  </tbody>\n",
       "</table>\n",
       "</div>"
      ],
      "text/plain": [
       "   compactness  circularity  distance_circularity  radius_ratio  \\\n",
       "0           95         48.0                  83.0         178.0   \n",
       "1           91         41.0                  84.0         141.0   \n",
       "2          104         50.0                 106.0         209.0   \n",
       "3           93         41.0                  82.0         159.0   \n",
       "4           85         44.0                  70.0         205.0   \n",
       "\n",
       "   pr.axis_aspect_ratio  max.length_aspect_ratio  scatter_ratio  \\\n",
       "0                  72.0                       10          162.0   \n",
       "1                  57.0                        9          149.0   \n",
       "2                  66.0                       10          207.0   \n",
       "3                  63.0                        9          144.0   \n",
       "4                 103.0                       52          149.0   \n",
       "\n",
       "   elongatedness  pr.axis_rectangularity  max.length_rectangularity  \\\n",
       "0           42.0                    20.0                        159   \n",
       "1           45.0                    19.0                        143   \n",
       "2           32.0                    23.0                        158   \n",
       "3           46.0                    19.0                        143   \n",
       "4           45.0                    19.0                        144   \n",
       "\n",
       "   scaled_variance  scaled_variance.1  scaled_radius_of_gyration  \\\n",
       "0            176.0              379.0                      184.0   \n",
       "1            170.0              330.0                      158.0   \n",
       "2            223.0              635.0                      220.0   \n",
       "3            160.0              309.0                      127.0   \n",
       "4            241.0              325.0                      188.0   \n",
       "\n",
       "   scaled_radius_of_gyration.1  skewness_about  skewness_about.1  \\\n",
       "0                         70.0             6.0              16.0   \n",
       "1                         72.0             9.0              14.0   \n",
       "2                         73.0            14.0               9.0   \n",
       "3                         63.0             6.0              10.0   \n",
       "4                        127.0             9.0              11.0   \n",
       "\n",
       "   skewness_about.2  hollows_ratio class  \n",
       "0             187.0            197   van  \n",
       "1             189.0            199   van  \n",
       "2             188.0            196   car  \n",
       "3             199.0            207   van  \n",
       "4             180.0            183   bus  "
      ]
     },
     "execution_count": 167,
     "metadata": {},
     "output_type": "execute_result"
    }
   ],
   "source": [
    "df = pd.read_csv('vehicle.csv')\n",
    "df.head()"
   ]
  },
  {
   "cell_type": "code",
   "execution_count": 168,
   "id": "b9400d11",
   "metadata": {},
   "outputs": [
    {
     "data": {
      "text/plain": [
       "(846, 19)"
      ]
     },
     "execution_count": 168,
     "metadata": {},
     "output_type": "execute_result"
    }
   ],
   "source": [
    "df.shape"
   ]
  },
  {
   "cell_type": "code",
   "execution_count": 169,
   "id": "74dfc310",
   "metadata": {},
   "outputs": [
    {
     "name": "stdout",
     "output_type": "stream",
     "text": [
      "<class 'pandas.core.frame.DataFrame'>\n",
      "RangeIndex: 846 entries, 0 to 845\n",
      "Data columns (total 19 columns):\n",
      " #   Column                       Non-Null Count  Dtype  \n",
      "---  ------                       --------------  -----  \n",
      " 0   compactness                  846 non-null    int64  \n",
      " 1   circularity                  841 non-null    float64\n",
      " 2   distance_circularity         842 non-null    float64\n",
      " 3   radius_ratio                 840 non-null    float64\n",
      " 4   pr.axis_aspect_ratio         844 non-null    float64\n",
      " 5   max.length_aspect_ratio      846 non-null    int64  \n",
      " 6   scatter_ratio                845 non-null    float64\n",
      " 7   elongatedness                845 non-null    float64\n",
      " 8   pr.axis_rectangularity       843 non-null    float64\n",
      " 9   max.length_rectangularity    846 non-null    int64  \n",
      " 10  scaled_variance              843 non-null    float64\n",
      " 11  scaled_variance.1            844 non-null    float64\n",
      " 12  scaled_radius_of_gyration    844 non-null    float64\n",
      " 13  scaled_radius_of_gyration.1  842 non-null    float64\n",
      " 14  skewness_about               840 non-null    float64\n",
      " 15  skewness_about.1             845 non-null    float64\n",
      " 16  skewness_about.2             845 non-null    float64\n",
      " 17  hollows_ratio                846 non-null    int64  \n",
      " 18  class                        846 non-null    object \n",
      "dtypes: float64(14), int64(4), object(1)\n",
      "memory usage: 125.7+ KB\n"
     ]
    }
   ],
   "source": [
    "df.info()"
   ]
  },
  {
   "cell_type": "markdown",
   "id": "ffa505b4",
   "metadata": {},
   "source": [
    "#### Q1B: Check percentage of missing values and impute with correct approach."
   ]
  },
  {
   "cell_type": "code",
   "execution_count": 173,
   "id": "b9dd0ee5",
   "metadata": {},
   "outputs": [
    {
     "name": "stdout",
     "output_type": "stream",
     "text": [
      "compactness                    0.000000\n",
      "circularity                    0.591017\n",
      "distance_circularity           0.472813\n",
      "radius_ratio                   0.709220\n",
      "pr.axis_aspect_ratio           0.236407\n",
      "max.length_aspect_ratio        0.000000\n",
      "scatter_ratio                  0.118203\n",
      "elongatedness                  0.118203\n",
      "pr.axis_rectangularity         0.354610\n",
      "max.length_rectangularity      0.000000\n",
      "scaled_variance                0.354610\n",
      "scaled_variance.1              0.236407\n",
      "scaled_radius_of_gyration      0.236407\n",
      "scaled_radius_of_gyration.1    0.472813\n",
      "skewness_about                 0.709220\n",
      "skewness_about.1               0.118203\n",
      "skewness_about.2               0.118203\n",
      "hollows_ratio                  0.000000\n",
      "class                          0.000000\n",
      "dtype: float64\n"
     ]
    }
   ],
   "source": [
    "#Print the % of missing values.\n",
    "print((df.isna().sum()/len(df))*100)"
   ]
  },
  {
   "cell_type": "code",
   "execution_count": 31,
   "id": "299bdaad",
   "metadata": {},
   "outputs": [
    {
     "data": {
      "text/html": [
       "<div>\n",
       "<style scoped>\n",
       "    .dataframe tbody tr th:only-of-type {\n",
       "        vertical-align: middle;\n",
       "    }\n",
       "\n",
       "    .dataframe tbody tr th {\n",
       "        vertical-align: top;\n",
       "    }\n",
       "\n",
       "    .dataframe thead th {\n",
       "        text-align: right;\n",
       "    }\n",
       "</style>\n",
       "<table border=\"1\" class=\"dataframe\">\n",
       "  <thead>\n",
       "    <tr style=\"text-align: right;\">\n",
       "      <th></th>\n",
       "      <th>count</th>\n",
       "      <th>mean</th>\n",
       "      <th>std</th>\n",
       "      <th>min</th>\n",
       "      <th>25%</th>\n",
       "      <th>50%</th>\n",
       "      <th>75%</th>\n",
       "      <th>max</th>\n",
       "    </tr>\n",
       "  </thead>\n",
       "  <tbody>\n",
       "    <tr>\n",
       "      <th>compactness</th>\n",
       "      <td>846.0</td>\n",
       "      <td>93.678487</td>\n",
       "      <td>8.234474</td>\n",
       "      <td>73.0</td>\n",
       "      <td>87.00</td>\n",
       "      <td>93.0</td>\n",
       "      <td>100.0</td>\n",
       "      <td>119.0</td>\n",
       "    </tr>\n",
       "    <tr>\n",
       "      <th>circularity</th>\n",
       "      <td>841.0</td>\n",
       "      <td>44.828775</td>\n",
       "      <td>6.152172</td>\n",
       "      <td>33.0</td>\n",
       "      <td>40.00</td>\n",
       "      <td>44.0</td>\n",
       "      <td>49.0</td>\n",
       "      <td>59.0</td>\n",
       "    </tr>\n",
       "    <tr>\n",
       "      <th>distance_circularity</th>\n",
       "      <td>842.0</td>\n",
       "      <td>82.110451</td>\n",
       "      <td>15.778292</td>\n",
       "      <td>40.0</td>\n",
       "      <td>70.00</td>\n",
       "      <td>80.0</td>\n",
       "      <td>98.0</td>\n",
       "      <td>112.0</td>\n",
       "    </tr>\n",
       "    <tr>\n",
       "      <th>radius_ratio</th>\n",
       "      <td>840.0</td>\n",
       "      <td>168.888095</td>\n",
       "      <td>33.520198</td>\n",
       "      <td>104.0</td>\n",
       "      <td>141.00</td>\n",
       "      <td>167.0</td>\n",
       "      <td>195.0</td>\n",
       "      <td>333.0</td>\n",
       "    </tr>\n",
       "    <tr>\n",
       "      <th>pr.axis_aspect_ratio</th>\n",
       "      <td>844.0</td>\n",
       "      <td>61.678910</td>\n",
       "      <td>7.891463</td>\n",
       "      <td>47.0</td>\n",
       "      <td>57.00</td>\n",
       "      <td>61.0</td>\n",
       "      <td>65.0</td>\n",
       "      <td>138.0</td>\n",
       "    </tr>\n",
       "    <tr>\n",
       "      <th>max.length_aspect_ratio</th>\n",
       "      <td>846.0</td>\n",
       "      <td>8.567376</td>\n",
       "      <td>4.601217</td>\n",
       "      <td>2.0</td>\n",
       "      <td>7.00</td>\n",
       "      <td>8.0</td>\n",
       "      <td>10.0</td>\n",
       "      <td>55.0</td>\n",
       "    </tr>\n",
       "    <tr>\n",
       "      <th>scatter_ratio</th>\n",
       "      <td>845.0</td>\n",
       "      <td>168.901775</td>\n",
       "      <td>33.214848</td>\n",
       "      <td>112.0</td>\n",
       "      <td>147.00</td>\n",
       "      <td>157.0</td>\n",
       "      <td>198.0</td>\n",
       "      <td>265.0</td>\n",
       "    </tr>\n",
       "    <tr>\n",
       "      <th>elongatedness</th>\n",
       "      <td>845.0</td>\n",
       "      <td>40.933728</td>\n",
       "      <td>7.816186</td>\n",
       "      <td>26.0</td>\n",
       "      <td>33.00</td>\n",
       "      <td>43.0</td>\n",
       "      <td>46.0</td>\n",
       "      <td>61.0</td>\n",
       "    </tr>\n",
       "    <tr>\n",
       "      <th>pr.axis_rectangularity</th>\n",
       "      <td>843.0</td>\n",
       "      <td>20.582444</td>\n",
       "      <td>2.592933</td>\n",
       "      <td>17.0</td>\n",
       "      <td>19.00</td>\n",
       "      <td>20.0</td>\n",
       "      <td>23.0</td>\n",
       "      <td>29.0</td>\n",
       "    </tr>\n",
       "    <tr>\n",
       "      <th>max.length_rectangularity</th>\n",
       "      <td>846.0</td>\n",
       "      <td>147.998818</td>\n",
       "      <td>14.515652</td>\n",
       "      <td>118.0</td>\n",
       "      <td>137.00</td>\n",
       "      <td>146.0</td>\n",
       "      <td>159.0</td>\n",
       "      <td>188.0</td>\n",
       "    </tr>\n",
       "    <tr>\n",
       "      <th>scaled_variance</th>\n",
       "      <td>843.0</td>\n",
       "      <td>188.631079</td>\n",
       "      <td>31.411004</td>\n",
       "      <td>130.0</td>\n",
       "      <td>167.00</td>\n",
       "      <td>179.0</td>\n",
       "      <td>217.0</td>\n",
       "      <td>320.0</td>\n",
       "    </tr>\n",
       "    <tr>\n",
       "      <th>scaled_variance.1</th>\n",
       "      <td>844.0</td>\n",
       "      <td>439.494076</td>\n",
       "      <td>176.666903</td>\n",
       "      <td>184.0</td>\n",
       "      <td>318.00</td>\n",
       "      <td>363.5</td>\n",
       "      <td>587.0</td>\n",
       "      <td>1018.0</td>\n",
       "    </tr>\n",
       "    <tr>\n",
       "      <th>scaled_radius_of_gyration</th>\n",
       "      <td>844.0</td>\n",
       "      <td>174.709716</td>\n",
       "      <td>32.584808</td>\n",
       "      <td>109.0</td>\n",
       "      <td>149.00</td>\n",
       "      <td>173.5</td>\n",
       "      <td>198.0</td>\n",
       "      <td>268.0</td>\n",
       "    </tr>\n",
       "    <tr>\n",
       "      <th>scaled_radius_of_gyration.1</th>\n",
       "      <td>842.0</td>\n",
       "      <td>72.447743</td>\n",
       "      <td>7.486190</td>\n",
       "      <td>59.0</td>\n",
       "      <td>67.00</td>\n",
       "      <td>71.5</td>\n",
       "      <td>75.0</td>\n",
       "      <td>135.0</td>\n",
       "    </tr>\n",
       "    <tr>\n",
       "      <th>skewness_about</th>\n",
       "      <td>840.0</td>\n",
       "      <td>6.364286</td>\n",
       "      <td>4.920649</td>\n",
       "      <td>0.0</td>\n",
       "      <td>2.00</td>\n",
       "      <td>6.0</td>\n",
       "      <td>9.0</td>\n",
       "      <td>22.0</td>\n",
       "    </tr>\n",
       "    <tr>\n",
       "      <th>skewness_about.1</th>\n",
       "      <td>845.0</td>\n",
       "      <td>12.602367</td>\n",
       "      <td>8.936081</td>\n",
       "      <td>0.0</td>\n",
       "      <td>5.00</td>\n",
       "      <td>11.0</td>\n",
       "      <td>19.0</td>\n",
       "      <td>41.0</td>\n",
       "    </tr>\n",
       "    <tr>\n",
       "      <th>skewness_about.2</th>\n",
       "      <td>845.0</td>\n",
       "      <td>188.919527</td>\n",
       "      <td>6.155809</td>\n",
       "      <td>176.0</td>\n",
       "      <td>184.00</td>\n",
       "      <td>188.0</td>\n",
       "      <td>193.0</td>\n",
       "      <td>206.0</td>\n",
       "    </tr>\n",
       "    <tr>\n",
       "      <th>hollows_ratio</th>\n",
       "      <td>846.0</td>\n",
       "      <td>195.632388</td>\n",
       "      <td>7.438797</td>\n",
       "      <td>181.0</td>\n",
       "      <td>190.25</td>\n",
       "      <td>197.0</td>\n",
       "      <td>201.0</td>\n",
       "      <td>211.0</td>\n",
       "    </tr>\n",
       "  </tbody>\n",
       "</table>\n",
       "</div>"
      ],
      "text/plain": [
       "                             count        mean         std    min     25%  \\\n",
       "compactness                  846.0   93.678487    8.234474   73.0   87.00   \n",
       "circularity                  841.0   44.828775    6.152172   33.0   40.00   \n",
       "distance_circularity         842.0   82.110451   15.778292   40.0   70.00   \n",
       "radius_ratio                 840.0  168.888095   33.520198  104.0  141.00   \n",
       "pr.axis_aspect_ratio         844.0   61.678910    7.891463   47.0   57.00   \n",
       "max.length_aspect_ratio      846.0    8.567376    4.601217    2.0    7.00   \n",
       "scatter_ratio                845.0  168.901775   33.214848  112.0  147.00   \n",
       "elongatedness                845.0   40.933728    7.816186   26.0   33.00   \n",
       "pr.axis_rectangularity       843.0   20.582444    2.592933   17.0   19.00   \n",
       "max.length_rectangularity    846.0  147.998818   14.515652  118.0  137.00   \n",
       "scaled_variance              843.0  188.631079   31.411004  130.0  167.00   \n",
       "scaled_variance.1            844.0  439.494076  176.666903  184.0  318.00   \n",
       "scaled_radius_of_gyration    844.0  174.709716   32.584808  109.0  149.00   \n",
       "scaled_radius_of_gyration.1  842.0   72.447743    7.486190   59.0   67.00   \n",
       "skewness_about               840.0    6.364286    4.920649    0.0    2.00   \n",
       "skewness_about.1             845.0   12.602367    8.936081    0.0    5.00   \n",
       "skewness_about.2             845.0  188.919527    6.155809  176.0  184.00   \n",
       "hollows_ratio                846.0  195.632388    7.438797  181.0  190.25   \n",
       "\n",
       "                               50%    75%     max  \n",
       "compactness                   93.0  100.0   119.0  \n",
       "circularity                   44.0   49.0    59.0  \n",
       "distance_circularity          80.0   98.0   112.0  \n",
       "radius_ratio                 167.0  195.0   333.0  \n",
       "pr.axis_aspect_ratio          61.0   65.0   138.0  \n",
       "max.length_aspect_ratio        8.0   10.0    55.0  \n",
       "scatter_ratio                157.0  198.0   265.0  \n",
       "elongatedness                 43.0   46.0    61.0  \n",
       "pr.axis_rectangularity        20.0   23.0    29.0  \n",
       "max.length_rectangularity    146.0  159.0   188.0  \n",
       "scaled_variance              179.0  217.0   320.0  \n",
       "scaled_variance.1            363.5  587.0  1018.0  \n",
       "scaled_radius_of_gyration    173.5  198.0   268.0  \n",
       "scaled_radius_of_gyration.1   71.5   75.0   135.0  \n",
       "skewness_about                 6.0    9.0    22.0  \n",
       "skewness_about.1              11.0   19.0    41.0  \n",
       "skewness_about.2             188.0  193.0   206.0  \n",
       "hollows_ratio                197.0  201.0   211.0  "
      ]
     },
     "execution_count": 31,
     "metadata": {},
     "output_type": "execute_result"
    }
   ],
   "source": [
    "df.describe().T"
   ]
  },
  {
   "cell_type": "code",
   "execution_count": 32,
   "id": "b1816b25",
   "metadata": {},
   "outputs": [
    {
     "data": {
      "text/plain": [
       "compactness                    0\n",
       "circularity                    5\n",
       "distance_circularity           4\n",
       "radius_ratio                   6\n",
       "pr.axis_aspect_ratio           2\n",
       "max.length_aspect_ratio        0\n",
       "scatter_ratio                  1\n",
       "elongatedness                  1\n",
       "pr.axis_rectangularity         3\n",
       "max.length_rectangularity      0\n",
       "scaled_variance                3\n",
       "scaled_variance.1              2\n",
       "scaled_radius_of_gyration      2\n",
       "scaled_radius_of_gyration.1    4\n",
       "skewness_about                 6\n",
       "skewness_about.1               1\n",
       "skewness_about.2               1\n",
       "hollows_ratio                  0\n",
       "class                          0\n",
       "dtype: int64"
      ]
     },
     "execution_count": 32,
     "metadata": {},
     "output_type": "execute_result"
    }
   ],
   "source": [
    "#Missing values count\n",
    "df.isna().sum()"
   ]
  },
  {
   "cell_type": "code",
   "execution_count": 33,
   "id": "a6482ee8",
   "metadata": {},
   "outputs": [
    {
     "name": "stdout",
     "output_type": "stream",
     "text": [
      "     compactness  circularity  distance_circularity  radius_ratio  \\\n",
      "5            107          NaN                 106.0         172.0   \n",
      "105          108          NaN                 103.0         202.0   \n",
      "118           85          NaN                   NaN         128.0   \n",
      "266           86          NaN                  65.0         116.0   \n",
      "396          108          NaN                 106.0         177.0   \n",
      "\n",
      "     pr.axis_aspect_ratio  max.length_aspect_ratio  scatter_ratio  \\\n",
      "5                    50.0                        6          255.0   \n",
      "105                  64.0                       10          220.0   \n",
      "118                  56.0                        8          150.0   \n",
      "266                  53.0                        6          152.0   \n",
      "396                  51.0                        5          256.0   \n",
      "\n",
      "     elongatedness  pr.axis_rectangularity  max.length_rectangularity  \\\n",
      "5             26.0                    28.0                        169   \n",
      "105           30.0                    25.0                        168   \n",
      "118           46.0                    19.0                        144   \n",
      "266           45.0                    19.0                        141   \n",
      "396           26.0                    28.0                        170   \n",
      "\n",
      "     scaled_variance  scaled_variance.1  scaled_radius_of_gyration  \\\n",
      "5              280.0              957.0                      264.0   \n",
      "105              NaN              711.0                      214.0   \n",
      "118            168.0              324.0                      173.0   \n",
      "266            175.0              335.0                        NaN   \n",
      "396            285.0              966.0                      261.0   \n",
      "\n",
      "     scaled_radius_of_gyration.1  skewness_about  skewness_about.1  \\\n",
      "5                           85.0             5.0               9.0   \n",
      "105                         73.0            11.0               NaN   \n",
      "118                         82.0             9.0              14.0   \n",
      "266                         85.0             5.0               4.0   \n",
      "396                         87.0            11.0               2.0   \n",
      "\n",
      "     skewness_about.2  hollows_ratio class  \n",
      "5               181.0            183   bus  \n",
      "105             188.0            199   car  \n",
      "118             180.0            184   bus  \n",
      "266             179.0            183   bus  \n",
      "396             182.0            181   bus  \n"
     ]
    }
   ],
   "source": [
    "# 'circularity' feature has 5 missing values. Lets print all rows for which circularity columns has missing values.\n",
    "print(df[df['circularity'].isnull()])"
   ]
  },
  {
   "cell_type": "markdown",
   "id": "d1129502",
   "metadata": {},
   "source": [
    "    Circularity column has 5 NaN values. Lets impute them with median value since its mean and median are almost same."
   ]
  },
  {
   "cell_type": "code",
   "execution_count": 34,
   "id": "b79893ba",
   "metadata": {},
   "outputs": [],
   "source": [
    "median = df['circularity'].median()\n",
    "df['circularity'].fillna(value=median, inplace=True)"
   ]
  },
  {
   "cell_type": "markdown",
   "id": "0d56266c",
   "metadata": {},
   "source": [
    "    distance_circularity column has 4 NaN values. Lets impute them with median value since its mean and median are almost same."
   ]
  },
  {
   "cell_type": "code",
   "execution_count": 36,
   "id": "f6c6c750",
   "metadata": {},
   "outputs": [],
   "source": [
    "median = df['distance_circularity'].median()\n",
    "df['distance_circularity'].fillna(value=median, inplace=True)"
   ]
  },
  {
   "cell_type": "markdown",
   "id": "1b4c321b",
   "metadata": {},
   "source": [
    "    radius_ratio has 6 NaN values. Lets impute them with median value since its mean and median are almost same."
   ]
  },
  {
   "cell_type": "code",
   "execution_count": 38,
   "id": "8138e08e",
   "metadata": {},
   "outputs": [],
   "source": [
    "median = df['radius_ratio'].median()\n",
    "df['radius_ratio'].fillna(value=median, inplace=True)"
   ]
  },
  {
   "cell_type": "markdown",
   "id": "6cc53066",
   "metadata": {},
   "source": [
    "    scaled_radius_of_gyration.1 has 4 NaN values. Lets impute them with median value since its mean and median are almost same."
   ]
  },
  {
   "cell_type": "code",
   "execution_count": 39,
   "id": "95e38d48",
   "metadata": {},
   "outputs": [],
   "source": [
    "median = df['scaled_radius_of_gyration.1'].median()\n",
    "df['scaled_radius_of_gyration.1'].fillna(value=median, inplace=True)"
   ]
  },
  {
   "cell_type": "markdown",
   "id": "40f0972d",
   "metadata": {},
   "source": [
    "    skewness_about has 6 NaN values. Lets impute them with median value since its mean and median are almost same."
   ]
  },
  {
   "cell_type": "code",
   "execution_count": 40,
   "id": "cc6f5b63",
   "metadata": {},
   "outputs": [],
   "source": [
    "median = df['skewness_about'].median()\n",
    "df['skewness_about'].fillna(value=median, inplace=True)"
   ]
  },
  {
   "cell_type": "markdown",
   "id": "92b8b843",
   "metadata": {},
   "source": [
    "    Below features also have NaN values but these are less in number and we can drop them.\n",
    "    pr.axis_aspect_ratio           2\n",
    "    scatter_ratio                  1\n",
    "    elongatedness                  1\n",
    "    pr.axis_rectangularity         3\n",
    "    scaled_variance                3\n",
    "    scaled_variance.1              2\n",
    "    scaled_radius_of_gyration      2\n",
    "    skewness_about.1               1\n",
    "    skewness_about.2               1"
   ]
  },
  {
   "cell_type": "code",
   "execution_count": 41,
   "id": "18524e14",
   "metadata": {},
   "outputs": [],
   "source": [
    "#Remove all the rows with NaN values(for above features)        \n",
    "df = df.dropna()"
   ]
  },
  {
   "cell_type": "code",
   "execution_count": 42,
   "id": "a754a43f",
   "metadata": {},
   "outputs": [
    {
     "data": {
      "text/plain": [
       "compactness                    0\n",
       "circularity                    0\n",
       "distance_circularity           0\n",
       "radius_ratio                   0\n",
       "pr.axis_aspect_ratio           0\n",
       "max.length_aspect_ratio        0\n",
       "scatter_ratio                  0\n",
       "elongatedness                  0\n",
       "pr.axis_rectangularity         0\n",
       "max.length_rectangularity      0\n",
       "scaled_variance                0\n",
       "scaled_variance.1              0\n",
       "scaled_radius_of_gyration      0\n",
       "scaled_radius_of_gyration.1    0\n",
       "skewness_about                 0\n",
       "skewness_about.1               0\n",
       "skewness_about.2               0\n",
       "hollows_ratio                  0\n",
       "class                          0\n",
       "dtype: int64"
      ]
     },
     "execution_count": 42,
     "metadata": {},
     "output_type": "execute_result"
    }
   ],
   "source": [
    "#Missing values count\n",
    "df.isna().sum()"
   ]
  },
  {
   "cell_type": "markdown",
   "id": "8d45ee35",
   "metadata": {},
   "source": [
    "    As can be seen above, there are no missing values any more after the treatment."
   ]
  },
  {
   "cell_type": "markdown",
   "id": "1f39c69e",
   "metadata": {},
   "source": [
    "#### Q1C: Visualize a Pie-chart and print percentage of values for variable ‘class’"
   ]
  },
  {
   "cell_type": "code",
   "execution_count": 64,
   "id": "feb29092",
   "metadata": {},
   "outputs": [
    {
     "data": {
      "text/plain": [
       "<Axes: title={'center': 'Vehicle Class'}, ylabel='class'>"
      ]
     },
     "execution_count": 64,
     "metadata": {},
     "output_type": "execute_result"
    },
    {
     "data": {
      "image/png": "[encoded data removed]",
      "text/plain": [
       "<Figure size 640x480 with 1 Axes>"
      ]
     },
     "metadata": {},
     "output_type": "display_data"
    }
   ],
   "source": [
    "df['class'].value_counts().plot.pie(title=\"Vehicle Class\", legend=False, autopct='%1.1f%%', explode=(0.02, 0.02, 0.02), shadow=True, startangle=0)"
   ]
  },
  {
   "cell_type": "markdown",
   "id": "a464cd75",
   "metadata": {},
   "source": [
    "#### Q1D:  Check for duplicate rows in the data and impute with correct approach."
   ]
  },
  {
   "cell_type": "code",
   "execution_count": 65,
   "id": "adaa85a6",
   "metadata": {},
   "outputs": [
    {
     "name": "stdout",
     "output_type": "stream",
     "text": [
      "Empty DataFrame\n",
      "Columns: [compactness, circularity, distance_circularity, radius_ratio, pr.axis_aspect_ratio, max.length_aspect_ratio, scatter_ratio, elongatedness, pr.axis_rectangularity, max.length_rectangularity, scaled_variance, scaled_variance.1, scaled_radius_of_gyration, scaled_radius_of_gyration.1, skewness_about, skewness_about.1, skewness_about.2, hollows_ratio, class]\n",
      "Index: []\n"
     ]
    }
   ],
   "source": [
    "#find duplicate rows across all columns\n",
    "duplicateRows = df[df.duplicated()]\n",
    "print(duplicateRows)"
   ]
  },
  {
   "cell_type": "markdown",
   "id": "81e64bce",
   "metadata": {},
   "source": [
    "- There are no duplicate rows in the given data."
   ]
  },
  {
   "cell_type": "markdown",
   "id": "058b6559",
   "metadata": {},
   "source": [
    "### Q2: Data Preparation: \n",
    "#### Q2A: Split data into X and Y."
   ]
  },
  {
   "cell_type": "code",
   "execution_count": 88,
   "id": "492ffcc2",
   "metadata": {},
   "outputs": [
    {
     "data": {
      "text/html": [
       "<div>\n",
       "<style scoped>\n",
       "    .dataframe tbody tr th:only-of-type {\n",
       "        vertical-align: middle;\n",
       "    }\n",
       "\n",
       "    .dataframe tbody tr th {\n",
       "        vertical-align: top;\n",
       "    }\n",
       "\n",
       "    .dataframe thead th {\n",
       "        text-align: right;\n",
       "    }\n",
       "</style>\n",
       "<table border=\"1\" class=\"dataframe\">\n",
       "  <thead>\n",
       "    <tr style=\"text-align: right;\">\n",
       "      <th></th>\n",
       "      <th>compactness</th>\n",
       "      <th>circularity</th>\n",
       "      <th>distance_circularity</th>\n",
       "      <th>radius_ratio</th>\n",
       "      <th>pr.axis_aspect_ratio</th>\n",
       "      <th>max.length_aspect_ratio</th>\n",
       "      <th>scatter_ratio</th>\n",
       "      <th>elongatedness</th>\n",
       "      <th>pr.axis_rectangularity</th>\n",
       "      <th>max.length_rectangularity</th>\n",
       "      <th>scaled_variance</th>\n",
       "      <th>scaled_variance.1</th>\n",
       "      <th>scaled_radius_of_gyration</th>\n",
       "      <th>scaled_radius_of_gyration.1</th>\n",
       "      <th>skewness_about</th>\n",
       "      <th>skewness_about.1</th>\n",
       "      <th>skewness_about.2</th>\n",
       "      <th>hollows_ratio</th>\n",
       "    </tr>\n",
       "    <tr>\n",
       "      <th>class</th>\n",
       "      <th></th>\n",
       "      <th></th>\n",
       "      <th></th>\n",
       "      <th></th>\n",
       "      <th></th>\n",
       "      <th></th>\n",
       "      <th></th>\n",
       "      <th></th>\n",
       "      <th></th>\n",
       "      <th></th>\n",
       "      <th></th>\n",
       "      <th></th>\n",
       "      <th></th>\n",
       "      <th></th>\n",
       "      <th></th>\n",
       "      <th></th>\n",
       "      <th></th>\n",
       "      <th></th>\n",
       "    </tr>\n",
       "  </thead>\n",
       "  <tbody>\n",
       "    <tr>\n",
       "      <th>bus</th>\n",
       "      <td>214</td>\n",
       "      <td>214</td>\n",
       "      <td>214</td>\n",
       "      <td>214</td>\n",
       "      <td>214</td>\n",
       "      <td>214</td>\n",
       "      <td>214</td>\n",
       "      <td>214</td>\n",
       "      <td>214</td>\n",
       "      <td>214</td>\n",
       "      <td>214</td>\n",
       "      <td>214</td>\n",
       "      <td>214</td>\n",
       "      <td>214</td>\n",
       "      <td>214</td>\n",
       "      <td>214</td>\n",
       "      <td>214</td>\n",
       "      <td>214</td>\n",
       "    </tr>\n",
       "    <tr>\n",
       "      <th>car</th>\n",
       "      <td>420</td>\n",
       "      <td>420</td>\n",
       "      <td>420</td>\n",
       "      <td>420</td>\n",
       "      <td>420</td>\n",
       "      <td>420</td>\n",
       "      <td>420</td>\n",
       "      <td>420</td>\n",
       "      <td>420</td>\n",
       "      <td>420</td>\n",
       "      <td>420</td>\n",
       "      <td>420</td>\n",
       "      <td>420</td>\n",
       "      <td>420</td>\n",
       "      <td>420</td>\n",
       "      <td>420</td>\n",
       "      <td>420</td>\n",
       "      <td>420</td>\n",
       "    </tr>\n",
       "    <tr>\n",
       "      <th>van</th>\n",
       "      <td>197</td>\n",
       "      <td>197</td>\n",
       "      <td>197</td>\n",
       "      <td>197</td>\n",
       "      <td>197</td>\n",
       "      <td>197</td>\n",
       "      <td>197</td>\n",
       "      <td>197</td>\n",
       "      <td>197</td>\n",
       "      <td>197</td>\n",
       "      <td>197</td>\n",
       "      <td>197</td>\n",
       "      <td>197</td>\n",
       "      <td>197</td>\n",
       "      <td>197</td>\n",
       "      <td>197</td>\n",
       "      <td>197</td>\n",
       "      <td>197</td>\n",
       "    </tr>\n",
       "  </tbody>\n",
       "</table>\n",
       "</div>"
      ],
      "text/plain": [
       "       compactness  circularity  distance_circularity  radius_ratio  \\\n",
       "class                                                                 \n",
       "bus            214          214                   214           214   \n",
       "car            420          420                   420           420   \n",
       "van            197          197                   197           197   \n",
       "\n",
       "       pr.axis_aspect_ratio  max.length_aspect_ratio  scatter_ratio  \\\n",
       "class                                                                 \n",
       "bus                     214                      214            214   \n",
       "car                     420                      420            420   \n",
       "van                     197                      197            197   \n",
       "\n",
       "       elongatedness  pr.axis_rectangularity  max.length_rectangularity  \\\n",
       "class                                                                     \n",
       "bus              214                     214                        214   \n",
       "car              420                     420                        420   \n",
       "van              197                     197                        197   \n",
       "\n",
       "       scaled_variance  scaled_variance.1  scaled_radius_of_gyration  \\\n",
       "class                                                                  \n",
       "bus                214                214                        214   \n",
       "car                420                420                        420   \n",
       "van                197                197                        197   \n",
       "\n",
       "       scaled_radius_of_gyration.1  skewness_about  skewness_about.1  \\\n",
       "class                                                                  \n",
       "bus                            214             214               214   \n",
       "car                            420             420               420   \n",
       "van                            197             197               197   \n",
       "\n",
       "       skewness_about.2  hollows_ratio  \n",
       "class                                   \n",
       "bus                 214            214  \n",
       "car                 420            420  \n",
       "van                 197            197  "
      ]
     },
     "execution_count": 88,
     "metadata": {},
     "output_type": "execute_result"
    }
   ],
   "source": [
    "df.groupby([\"class\"]).count()"
   ]
  },
  {
   "cell_type": "code",
   "execution_count": 89,
   "id": "84a0fdd7",
   "metadata": {},
   "outputs": [],
   "source": [
    "data = df.copy()\n",
    "# Create a separate dataframe consisting only of the features i.e independent attributes\n",
    "X = data.drop(labels= \"class\", axis = 1)\n",
    "y = data[\"class\"]"
   ]
  },
  {
   "cell_type": "code",
   "execution_count": 90,
   "id": "33493532",
   "metadata": {},
   "outputs": [],
   "source": [
    "#from sklearn.model_selection import train_test_split\n",
    "\n",
    "# splitting data into training and test set for independent attributes(80:20)\n",
    "#X_train, X_test, y_train, y_test = train_test_split(X, y, test_size=.20, random_state=1)"
   ]
  },
  {
   "cell_type": "markdown",
   "id": "7096eebc",
   "metadata": {},
   "source": [
    "#### Q2B:  Standardize the Data."
   ]
  },
  {
   "cell_type": "code",
   "execution_count": 91,
   "id": "bcce72a4",
   "metadata": {},
   "outputs": [
    {
     "data": {
      "text/html": [
       "<div>\n",
       "<style scoped>\n",
       "    .dataframe tbody tr th:only-of-type {\n",
       "        vertical-align: middle;\n",
       "    }\n",
       "\n",
       "    .dataframe tbody tr th {\n",
       "        vertical-align: top;\n",
       "    }\n",
       "\n",
       "    .dataframe thead th {\n",
       "        text-align: right;\n",
       "    }\n",
       "</style>\n",
       "<table border=\"1\" class=\"dataframe\">\n",
       "  <thead>\n",
       "    <tr style=\"text-align: right;\">\n",
       "      <th></th>\n",
       "      <th>compactness</th>\n",
       "      <th>circularity</th>\n",
       "      <th>distance_circularity</th>\n",
       "      <th>radius_ratio</th>\n",
       "      <th>pr.axis_aspect_ratio</th>\n",
       "      <th>max.length_aspect_ratio</th>\n",
       "      <th>scatter_ratio</th>\n",
       "      <th>elongatedness</th>\n",
       "      <th>pr.axis_rectangularity</th>\n",
       "      <th>max.length_rectangularity</th>\n",
       "      <th>scaled_variance</th>\n",
       "      <th>scaled_variance.1</th>\n",
       "      <th>scaled_radius_of_gyration</th>\n",
       "      <th>scaled_radius_of_gyration.1</th>\n",
       "      <th>skewness_about</th>\n",
       "      <th>skewness_about.1</th>\n",
       "      <th>skewness_about.2</th>\n",
       "      <th>hollows_ratio</th>\n",
       "    </tr>\n",
       "  </thead>\n",
       "  <tbody>\n",
       "    <tr>\n",
       "      <th>0</th>\n",
       "      <td>0.163643</td>\n",
       "      <td>0.520599</td>\n",
       "      <td>0.057545</td>\n",
       "      <td>0.271838</td>\n",
       "      <td>1.298431</td>\n",
       "      <td>0.307273</td>\n",
       "      <td>-0.205464</td>\n",
       "      <td>0.136691</td>\n",
       "      <td>-0.224255</td>\n",
       "      <td>0.762196</td>\n",
       "      <td>-0.402352</td>\n",
       "      <td>-0.344585</td>\n",
       "      <td>0.287533</td>\n",
       "      <td>-0.327209</td>\n",
       "      <td>-0.080347</td>\n",
       "      <td>0.383181</td>\n",
       "      <td>-0.314848</td>\n",
       "      <td>0.184209</td>\n",
       "    </tr>\n",
       "    <tr>\n",
       "      <th>1</th>\n",
       "      <td>-0.322461</td>\n",
       "      <td>-0.624758</td>\n",
       "      <td>0.121051</td>\n",
       "      <td>-0.836823</td>\n",
       "      <td>-0.594545</td>\n",
       "      <td>0.091429</td>\n",
       "      <td>-0.596587</td>\n",
       "      <td>0.521309</td>\n",
       "      <td>-0.610084</td>\n",
       "      <td>-0.344395</td>\n",
       "      <td>-0.593285</td>\n",
       "      <td>-0.621858</td>\n",
       "      <td>-0.512215</td>\n",
       "      <td>-0.059580</td>\n",
       "      <td>0.530336</td>\n",
       "      <td>0.158464</td>\n",
       "      <td>0.010573</td>\n",
       "      <td>0.453712</td>\n",
       "    </tr>\n",
       "    <tr>\n",
       "      <th>2</th>\n",
       "      <td>1.257377</td>\n",
       "      <td>0.847844</td>\n",
       "      <td>1.518179</td>\n",
       "      <td>1.200715</td>\n",
       "      <td>0.541241</td>\n",
       "      <td>0.307273</td>\n",
       "      <td>1.148424</td>\n",
       "      <td>-1.145369</td>\n",
       "      <td>0.933233</td>\n",
       "      <td>0.693034</td>\n",
       "      <td>1.093286</td>\n",
       "      <td>1.104027</td>\n",
       "      <td>1.394877</td>\n",
       "      <td>0.074234</td>\n",
       "      <td>1.548140</td>\n",
       "      <td>-0.403327</td>\n",
       "      <td>-0.152137</td>\n",
       "      <td>0.049458</td>\n",
       "    </tr>\n",
       "    <tr>\n",
       "      <th>3</th>\n",
       "      <td>-0.079409</td>\n",
       "      <td>-0.624758</td>\n",
       "      <td>-0.005961</td>\n",
       "      <td>-0.297475</td>\n",
       "      <td>0.162646</td>\n",
       "      <td>0.091429</td>\n",
       "      <td>-0.747019</td>\n",
       "      <td>0.649515</td>\n",
       "      <td>-0.610084</td>\n",
       "      <td>-0.344395</td>\n",
       "      <td>-0.911506</td>\n",
       "      <td>-0.740690</td>\n",
       "      <td>-1.465761</td>\n",
       "      <td>-1.263910</td>\n",
       "      <td>-0.080347</td>\n",
       "      <td>-0.290969</td>\n",
       "      <td>1.637677</td>\n",
       "      <td>1.531724</td>\n",
       "    </tr>\n",
       "    <tr>\n",
       "      <th>4</th>\n",
       "      <td>-1.051616</td>\n",
       "      <td>-0.133891</td>\n",
       "      <td>-0.768031</td>\n",
       "      <td>1.080860</td>\n",
       "      <td>5.210583</td>\n",
       "      <td>9.372739</td>\n",
       "      <td>-0.596587</td>\n",
       "      <td>0.521309</td>\n",
       "      <td>-0.610084</td>\n",
       "      <td>-0.275233</td>\n",
       "      <td>1.666084</td>\n",
       "      <td>-0.650151</td>\n",
       "      <td>0.410571</td>\n",
       "      <td>7.300212</td>\n",
       "      <td>0.530336</td>\n",
       "      <td>-0.178610</td>\n",
       "      <td>-1.453820</td>\n",
       "      <td>-1.702312</td>\n",
       "    </tr>\n",
       "  </tbody>\n",
       "</table>\n",
       "</div>"
      ],
      "text/plain": [
       "   compactness  circularity  distance_circularity  radius_ratio  \\\n",
       "0     0.163643     0.520599              0.057545      0.271838   \n",
       "1    -0.322461    -0.624758              0.121051     -0.836823   \n",
       "2     1.257377     0.847844              1.518179      1.200715   \n",
       "3    -0.079409    -0.624758             -0.005961     -0.297475   \n",
       "4    -1.051616    -0.133891             -0.768031      1.080860   \n",
       "\n",
       "   pr.axis_aspect_ratio  max.length_aspect_ratio  scatter_ratio  \\\n",
       "0              1.298431                 0.307273      -0.205464   \n",
       "1             -0.594545                 0.091429      -0.596587   \n",
       "2              0.541241                 0.307273       1.148424   \n",
       "3              0.162646                 0.091429      -0.747019   \n",
       "4              5.210583                 9.372739      -0.596587   \n",
       "\n",
       "   elongatedness  pr.axis_rectangularity  max.length_rectangularity  \\\n",
       "0       0.136691               -0.224255                   0.762196   \n",
       "1       0.521309               -0.610084                  -0.344395   \n",
       "2      -1.145369                0.933233                   0.693034   \n",
       "3       0.649515               -0.610084                  -0.344395   \n",
       "4       0.521309               -0.610084                  -0.275233   \n",
       "\n",
       "   scaled_variance  scaled_variance.1  scaled_radius_of_gyration  \\\n",
       "0        -0.402352          -0.344585                   0.287533   \n",
       "1        -0.593285          -0.621858                  -0.512215   \n",
       "2         1.093286           1.104027                   1.394877   \n",
       "3        -0.911506          -0.740690                  -1.465761   \n",
       "4         1.666084          -0.650151                   0.410571   \n",
       "\n",
       "   scaled_radius_of_gyration.1  skewness_about  skewness_about.1  \\\n",
       "0                    -0.327209       -0.080347          0.383181   \n",
       "1                    -0.059580        0.530336          0.158464   \n",
       "2                     0.074234        1.548140         -0.403327   \n",
       "3                    -1.263910       -0.080347         -0.290969   \n",
       "4                     7.300212        0.530336         -0.178610   \n",
       "\n",
       "   skewness_about.2  hollows_ratio  \n",
       "0         -0.314848       0.184209  \n",
       "1          0.010573       0.453712  \n",
       "2         -0.152137       0.049458  \n",
       "3          1.637677       1.531724  \n",
       "4         -1.453820      -1.702312  "
      ]
     },
     "execution_count": 91,
     "metadata": {},
     "output_type": "execute_result"
    }
   ],
   "source": [
    "from scipy.stats import zscore\n",
    "X_z = X.apply(zscore)\n",
    "#X_test_z = X_test.apply(zscore)\n",
    "X_z.head()"
   ]
  },
  {
   "cell_type": "markdown",
   "id": "9fad31dc",
   "metadata": {},
   "source": [
    "### Q3: Model Building:\n",
    "#### Q3A:  Train a base Classification model using SVM."
   ]
  },
  {
   "cell_type": "code",
   "execution_count": 92,
   "id": "e896f4f7",
   "metadata": {},
   "outputs": [],
   "source": [
    "from sklearn.model_selection import train_test_split\n",
    "\n",
    "# splitting data into training and test set for independent attributes(80:20)\n",
    "X_train, X_test, y_train, y_test = train_test_split(X_z, y, test_size=.20, random_state=1)"
   ]
  },
  {
   "cell_type": "code",
   "execution_count": 99,
   "id": "7ba5e451",
   "metadata": {},
   "outputs": [
    {
     "name": "stdout",
     "output_type": "stream",
     "text": [
      "0.9698795180722891\n",
      "0.9820359281437125\n"
     ]
    }
   ],
   "source": [
    "from sklearn.svm import SVC\n",
    "import sklearn.metrics as metrics\n",
    "from sklearn.metrics import classification_report\n",
    "\n",
    "# Building a Support Vector Machine on train data\n",
    "svc_model = SVC() # default kernel is rbf, {'C':[0.1, 0.9, 1,10,100], 'kernel':['rbf',radial', 'linear'], 'gamma':[1,0.1, 0.001]}\n",
    "svc_model.fit(X_train, y_train)\n",
    "\n",
    "prediction = svc_model.predict(X_train)\n",
    "# check the accuracy on the training set\n",
    "base_tr_acc = svc_model.score(X_train, y_train)\n",
    "base_te_acc = svc_model.score(X_test, y_test)\n",
    "\n",
    "print(svc_model.score(X_train, y_train))\n",
    "print(svc_model.score(X_test, y_test))"
   ]
  },
  {
   "cell_type": "markdown",
   "id": "3d389b11",
   "metadata": {},
   "source": [
    "#### Q3B: Print Classification metrics for train data."
   ]
  },
  {
   "cell_type": "code",
   "execution_count": 100,
   "id": "8c58dab5",
   "metadata": {},
   "outputs": [
    {
     "name": "stdout",
     "output_type": "stream",
     "text": [
      "              precision    recall  f1-score   support\n",
      "\n",
      "         bus       0.97      0.99      0.98       174\n",
      "         car       0.98      0.98      0.98       339\n",
      "         van       0.95      0.93      0.94       151\n",
      "\n",
      "    accuracy                           0.97       664\n",
      "   macro avg       0.97      0.97      0.97       664\n",
      "weighted avg       0.97      0.97      0.97       664\n",
      "\n"
     ]
    }
   ],
   "source": [
    "print(classification_report(prediction,y_train))"
   ]
  },
  {
   "cell_type": "markdown",
   "id": "bd8dc087",
   "metadata": {},
   "source": [
    "#### Q3C: Apply PCA on the data with 10 components."
   ]
  },
  {
   "cell_type": "code",
   "execution_count": 103,
   "id": "e34d2550",
   "metadata": {},
   "outputs": [
    {
     "name": "stdout",
     "output_type": "stream",
     "text": [
      "[0.52230267 0.68922923 0.79546632 0.86062017 0.91185641 0.94193146\n",
      " 0.96194589 0.97430027 0.98313415 0.98826069]\n"
     ]
    }
   ],
   "source": [
    "# let's try to see how PCA performs\n",
    "from sklearn.decomposition import PCA\n",
    "pca = PCA(n_components=10)\n",
    "pca.fit_transform(X_z)\n",
    "cum_var = pca.explained_variance_ratio_.cumsum()\n",
    "print(cum_var)"
   ]
  },
  {
   "cell_type": "code",
   "execution_count": 104,
   "id": "e4f0a049",
   "metadata": {},
   "outputs": [
    {
     "data": {
      "text/plain": [
       "[1, 2, 3, 4, 5, 6, 7, 8, 9, 10]"
      ]
     },
     "execution_count": 104,
     "metadata": {},
     "output_type": "execute_result"
    }
   ],
   "source": [
    "pc = list(range(1,len(cum_var)+1))\n",
    "pc"
   ]
  },
  {
   "cell_type": "markdown",
   "id": "386bec38",
   "metadata": {},
   "source": [
    "#### Q3D:  Visualize Cumulative Variance Explained with Number of Components. "
   ]
  },
  {
   "cell_type": "code",
   "execution_count": 105,
   "id": "2a9fa539",
   "metadata": {},
   "outputs": [
    {
     "data": {
      "image/png": "[encoded data removed]",
      "text/plain": [
       "<Figure size 640x480 with 1 Axes>"
      ]
     },
     "metadata": {},
     "output_type": "display_data"
    }
   ],
   "source": [
    "plt.plot(pc,cum_var)\n",
    "plt.xlabel('number of components')\n",
    "plt.ylabel('cumulative explained variance');\n",
    "plt.title('Cumulative variance explained with 10 PCA components')"
   ]
  },
  {
   "cell_type": "markdown",
   "id": "80066e8e",
   "metadata": {},
   "source": [
    "#### Q3E:  Draw a horizontal line on the above plot to highlight the threshold of 90%"
   ]
  },
  {
   "cell_type": "code",
   "execution_count": 107,
   "id": "29a2f1cb",
   "metadata": {},
   "outputs": [
    {
     "data": {
      "image/png": "[encoded data removed]",
      "text/plain": [
       "<Figure size 800x600 with 1 Axes>"
      ]
     },
     "metadata": {},
     "output_type": "display_data"
    }
   ],
   "source": [
    "plt.figure(figsize=(8, 6))\n",
    "plt.plot(pc, cum_var, label='Cumulative Variance')\n",
    "\n",
    "# Draw a horizontal line for 90% threshold\n",
    "threshold = 0.9\n",
    "plt.axhline(y=threshold, color='r', linestyle='--', label='90% Threshold')\n",
    "\n",
    "# Add labels and legend\n",
    "plt.xlabel('number of components')\n",
    "plt.ylabel('cumulative explained variance')\n",
    "plt.title('Cumulative variance explained with 90% Threshold')\n",
    "plt.legend()\n",
    "\n",
    "# Show the plot\n",
    "plt.grid(True)\n",
    "plt.show()"
   ]
  },
  {
   "cell_type": "markdown",
   "id": "744a7a80",
   "metadata": {},
   "source": [
    "- From the above plot, we need minimum 5 components with 90% or above variance explained. So lets chose 5 PCA components for furthur analysis"
   ]
  },
  {
   "cell_type": "markdown",
   "id": "29912664",
   "metadata": {},
   "source": [
    "#### Q3F: Apply PCA on the data. This time Select Minimum Components with 90% or above variance explained"
   ]
  },
  {
   "cell_type": "code",
   "execution_count": 109,
   "id": "03c9d1c4",
   "metadata": {},
   "outputs": [],
   "source": [
    "pc_req = 5\n",
    "pca = PCA(n_components=pc_req)\n",
    "principalComponents = pca.fit_transform(X_z)"
   ]
  },
  {
   "cell_type": "code",
   "execution_count": 110,
   "id": "28cdec9d",
   "metadata": {},
   "outputs": [],
   "source": [
    "pc_list_ = []\n",
    "for i in range(1,pc_req+1):\n",
    "    pc_name = 'pc'+str(i)\n",
    "    pc_list_.append(pc_name)"
   ]
  },
  {
   "cell_type": "code",
   "execution_count": 111,
   "id": "a9e1169f",
   "metadata": {},
   "outputs": [
    {
     "data": {
      "text/plain": [
       "['pc1', 'pc2', 'pc3', 'pc4', 'pc5']"
      ]
     },
     "execution_count": 111,
     "metadata": {},
     "output_type": "execute_result"
    }
   ],
   "source": [
    "pc_list_"
   ]
  },
  {
   "cell_type": "code",
   "execution_count": 112,
   "id": "ed4d7cac",
   "metadata": {},
   "outputs": [
    {
     "data": {
      "text/html": [
       "<div>\n",
       "<style scoped>\n",
       "    .dataframe tbody tr th:only-of-type {\n",
       "        vertical-align: middle;\n",
       "    }\n",
       "\n",
       "    .dataframe tbody tr th {\n",
       "        vertical-align: top;\n",
       "    }\n",
       "\n",
       "    .dataframe thead th {\n",
       "        text-align: right;\n",
       "    }\n",
       "</style>\n",
       "<table border=\"1\" class=\"dataframe\">\n",
       "  <thead>\n",
       "    <tr style=\"text-align: right;\">\n",
       "      <th></th>\n",
       "      <th>pc1</th>\n",
       "      <th>pc2</th>\n",
       "      <th>pc3</th>\n",
       "      <th>pc4</th>\n",
       "      <th>pc5</th>\n",
       "    </tr>\n",
       "  </thead>\n",
       "  <tbody>\n",
       "    <tr>\n",
       "      <th>0</th>\n",
       "      <td>0.334419</td>\n",
       "      <td>-0.207205</td>\n",
       "      <td>0.989621</td>\n",
       "      <td>0.181172</td>\n",
       "      <td>0.081696</td>\n",
       "    </tr>\n",
       "    <tr>\n",
       "      <th>1</th>\n",
       "      <td>-1.591617</td>\n",
       "      <td>-0.417757</td>\n",
       "      <td>-0.373668</td>\n",
       "      <td>0.225428</td>\n",
       "      <td>0.694063</td>\n",
       "    </tr>\n",
       "    <tr>\n",
       "      <th>2</th>\n",
       "      <td>3.763429</td>\n",
       "      <td>0.197359</td>\n",
       "      <td>0.089320</td>\n",
       "      <td>1.215192</td>\n",
       "      <td>0.703584</td>\n",
       "    </tr>\n",
       "    <tr>\n",
       "      <th>3</th>\n",
       "      <td>-1.742872</td>\n",
       "      <td>-2.829161</td>\n",
       "      <td>0.113006</td>\n",
       "      <td>0.358618</td>\n",
       "      <td>-0.351296</td>\n",
       "    </tr>\n",
       "    <tr>\n",
       "      <th>4</th>\n",
       "      <td>0.535605</td>\n",
       "      <td>4.805832</td>\n",
       "      <td>11.612519</td>\n",
       "      <td>0.111775</td>\n",
       "      <td>3.254691</td>\n",
       "    </tr>\n",
       "  </tbody>\n",
       "</table>\n",
       "</div>"
      ],
      "text/plain": [
       "        pc1       pc2        pc3       pc4       pc5\n",
       "0  0.334419 -0.207205   0.989621  0.181172  0.081696\n",
       "1 -1.591617 -0.417757  -0.373668  0.225428  0.694063\n",
       "2  3.763429  0.197359   0.089320  1.215192  0.703584\n",
       "3 -1.742872 -2.829161   0.113006  0.358618 -0.351296\n",
       "4  0.535605  4.805832  11.612519  0.111775  3.254691"
      ]
     },
     "execution_count": 112,
     "metadata": {},
     "output_type": "execute_result"
    }
   ],
   "source": [
    "X_pc = pd.DataFrame(principalComponents, columns = pc_list_)\n",
    "X_pc.head()"
   ]
  },
  {
   "cell_type": "code",
   "execution_count": 113,
   "id": "c1c576c4",
   "metadata": {},
   "outputs": [
    {
     "name": "stdout",
     "output_type": "stream",
     "text": [
      "[0.52230267 0.68922923 0.79546632 0.86062017 0.91185641]\n"
     ]
    }
   ],
   "source": [
    "cum_var = pca.explained_variance_ratio_.cumsum()\n",
    "print(cum_var)"
   ]
  },
  {
   "cell_type": "markdown",
   "id": "3ac032dc",
   "metadata": {},
   "source": [
    "#### Q3G:  Train SVM model on components selected from above step."
   ]
  },
  {
   "cell_type": "code",
   "execution_count": 159,
   "id": "f3a12032",
   "metadata": {},
   "outputs": [
    {
     "name": "stdout",
     "output_type": "stream",
     "text": [
      "0.8012048192771084\n",
      "0.7904191616766467\n"
     ]
    }
   ],
   "source": [
    "#splitting the PC data in test and train sets\n",
    "from sklearn.model_selection import train_test_split\n",
    "X_train_pc, X_test_pc, y_train, y_test = train_test_split(X_pc,y, test_size = 0.2, random_state = 10)\n",
    "\n",
    "# Building a Support Vector Machine on train data\n",
    "svc_model = SVC() # default kernel is rbf, {'C':[0.1, 0.9, 1,10,100], 'kernel':['rbf',radial', 'linear'], 'gamma':[1,0.1, 0.001]}\n",
    "svc_model.fit(X_train_pc, y_train)\n",
    "\n",
    "prediction = svc_model.predict(X_train_pc)\n",
    "# check the accuracy on the training set\n",
    "base_tr_acc = svc_model.score(X_train_pc, y_train)\n",
    "base_f1_tr = f1_score(y_train,prediction, average='micro')\n",
    "\n",
    "print(svc_model.score(X_train_pc, y_train))\n",
    "print(svc_model.score(X_test_pc, y_test))"
   ]
  },
  {
   "cell_type": "markdown",
   "id": "8e2d64a0",
   "metadata": {},
   "source": [
    "#### Q3H:  Print Classification metrics for train data of above model and share insights."
   ]
  },
  {
   "cell_type": "code",
   "execution_count": 145,
   "id": "8ead4354",
   "metadata": {},
   "outputs": [
    {
     "name": "stdout",
     "output_type": "stream",
     "text": [
      "              precision    recall  f1-score   support\n",
      "\n",
      "         bus       0.67      0.85      0.75       135\n",
      "         car       0.91      0.82      0.87       376\n",
      "         van       0.70      0.71      0.70       153\n",
      "\n",
      "    accuracy                           0.80       664\n",
      "   macro avg       0.76      0.79      0.77       664\n",
      "weighted avg       0.81      0.80      0.80       664\n",
      "\n"
     ]
    }
   ],
   "source": [
    "print(classification_report(prediction,y_train))"
   ]
  },
  {
   "cell_type": "markdown",
   "id": "daa79001",
   "metadata": {},
   "source": [
    "### Q4. Performance Improvement:\n",
    "#### Q4A: Train another SVM on the components out of PCA. Tune the parameters to improve performance."
   ]
  },
  {
   "cell_type": "code",
   "execution_count": 137,
   "id": "dd510d49",
   "metadata": {},
   "outputs": [
    {
     "name": "stdout",
     "output_type": "stream",
     "text": [
      "Fitting 5 folds for each of 48 candidates, totalling 240 fits\n",
      "Best parameters: {'C': 10, 'gamma': 0.1, 'kernel': 'rbf'}\n"
     ]
    }
   ],
   "source": [
    "from sklearn.model_selection import train_test_split, GridSearchCV\n",
    "from sklearn.svm import SVC\n",
    "from sklearn.metrics import classification_report, accuracy_score\n",
    "\n",
    "# Define the parameter grid to search through\n",
    "param_grid = {'C': [0.1, 1, 10, 100],\n",
    "              'gamma': [1, 0.1, 0.01, 0.001],\n",
    "              'kernel': ['rbf', 'linear', 'poly']}\n",
    "\n",
    "# Create the SVC classifier\n",
    "svc = SVC()\n",
    "\n",
    "# Create GridSearchCV object\n",
    "grid_search = GridSearchCV(svc, param_grid, cv=5, scoring='accuracy', verbose=1)\n",
    "\n",
    "# Fit the GridSearchCV object to the training data\n",
    "grid_search.fit(X_train_pc, y_train)\n",
    "\n",
    "# Print the best parameters found\n",
    "print(\"Best parameters:\", grid_search.best_params_)"
   ]
  },
  {
   "cell_type": "code",
   "execution_count": 140,
   "id": "c34748ac",
   "metadata": {},
   "outputs": [],
   "source": [
    "# Make predictions with the best parameters\n",
    "y_pred = grid_search.predict(X_train_pc)"
   ]
  },
  {
   "cell_type": "markdown",
   "id": "e6a238f8",
   "metadata": {},
   "source": [
    "#### Q4B: Share best Parameters observed from above step.\n",
    "- Best parameters which are found from GridSearchCV with SVC classifier is  **'C': 10, 'gamma': 0.1, 'kernel': 'rbf'**."
   ]
  },
  {
   "cell_type": "markdown",
   "id": "01fbebc1",
   "metadata": {},
   "source": [
    "#### Q4C: Print Classification metrics for train data of above model and share relative improvement in performance in all the models along with insights."
   ]
  },
  {
   "cell_type": "code",
   "execution_count": 160,
   "id": "6360a8de",
   "metadata": {},
   "outputs": [
    {
     "name": "stdout",
     "output_type": "stream",
     "text": [
      "Classification Report:\n",
      "               precision    recall  f1-score   support\n",
      "\n",
      "         bus       0.88      0.88      0.88       171\n",
      "         car       0.92      0.95      0.94       338\n",
      "         van       0.89      0.83      0.86       155\n",
      "\n",
      "    accuracy                           0.91       664\n",
      "   macro avg       0.90      0.89      0.89       664\n",
      "weighted avg       0.90      0.91      0.90       664\n",
      "\n",
      "Accuracy Score: 0.9051204819277109\n"
     ]
    }
   ],
   "source": [
    "from sklearn.metrics import f1_score\n",
    "# Print classification report and accuracy score\n",
    "print(\"Classification Report:\\n\", classification_report(y_train, y_pred))\n",
    "print(\"Accuracy Score:\", accuracy_score(y_train, y_pred))\n",
    "gs_tr_acc = accuracy_score(y_train, y_pred)\n",
    "gs_f1_tr = f1_score(y_train,y_pred, average='micro')"
   ]
  },
  {
   "cell_type": "code",
   "execution_count": 161,
   "id": "b85c0e48",
   "metadata": {},
   "outputs": [],
   "source": [
    "d = {'Model': ['Base RBF', 'RBF w/ GridSearch and Hyperparameters'], \n",
    "     'Train_Accuracy':[base_tr_acc, gs_tr_acc], \n",
    "     'F1 Score': [base_f1_tr, gs_f1_tr]}"
   ]
  },
  {
   "cell_type": "code",
   "execution_count": 164,
   "id": "aea400a8",
   "metadata": {},
   "outputs": [
    {
     "data": {
      "text/html": [
       "<div>\n",
       "<style scoped>\n",
       "    .dataframe tbody tr th:only-of-type {\n",
       "        vertical-align: middle;\n",
       "    }\n",
       "\n",
       "    .dataframe tbody tr th {\n",
       "        vertical-align: top;\n",
       "    }\n",
       "\n",
       "    .dataframe thead th {\n",
       "        text-align: right;\n",
       "    }\n",
       "</style>\n",
       "<table border=\"1\" class=\"dataframe\">\n",
       "  <thead>\n",
       "    <tr style=\"text-align: right;\">\n",
       "      <th></th>\n",
       "      <th>Model</th>\n",
       "      <th>Train_Accuracy</th>\n",
       "      <th>F1 Score</th>\n",
       "    </tr>\n",
       "  </thead>\n",
       "  <tbody>\n",
       "    <tr>\n",
       "      <th>0</th>\n",
       "      <td>Base RBF</td>\n",
       "      <td>0.801205</td>\n",
       "      <td>0.801205</td>\n",
       "    </tr>\n",
       "    <tr>\n",
       "      <th>1</th>\n",
       "      <td>RBF w/ GridSearch and Hyperparameters</td>\n",
       "      <td>0.905120</td>\n",
       "      <td>0.905120</td>\n",
       "    </tr>\n",
       "  </tbody>\n",
       "</table>\n",
       "</div>"
      ],
      "text/plain": [
       "                                   Model  Train_Accuracy  F1 Score\n",
       "0                               Base RBF        0.801205  0.801205\n",
       "1  RBF w/ GridSearch and Hyperparameters        0.905120  0.905120"
      ]
     },
     "execution_count": 164,
     "metadata": {},
     "output_type": "execute_result"
    }
   ],
   "source": [
    "df_metrics = pd.DataFrame(d)\n",
    "df_metrics"
   ]
  },
  {
   "cell_type": "code",
   "execution_count": 165,
   "id": "672d4e11",
   "metadata": {},
   "outputs": [
    {
     "data": {
      "image/png": "[encoded data removed]",
      "text/plain": [
       "<Figure size 1200x800 with 1 Axes>"
      ]
     },
     "metadata": {},
     "output_type": "display_data"
    }
   ],
   "source": [
    "g = df_metrics.plot(kind='bar', rot = 0, figsize = (12,8), fontsize = 15) #, colormap='Paired')\n",
    "g.legend(bbox_to_anchor=(1, 1), prop={'size': 15})\n",
    "g.set_ylabel(\"Score\", fontsize=15)\n",
    "g.set_xlabel(\"Model\", fontsize=15)\n",
    "plt.show()"
   ]
  },
  {
   "cell_type": "markdown",
   "id": "a54b5b25",
   "metadata": {},
   "source": [
    "#### Insights:\n",
    "   - On original data without PCA, SVC classifier(default parameters) model accuracy is at 97% which is really good but\n",
    "     this data seems to be over fitting.\n",
    "   - With SVC classifier(using default parameters) on PCA treated data, training and F1 scores are 80% and 80%.\n",
    "   - By doing Gridsearch and with Hyperparameters, model was tried with total 240 fits and found that Training \n",
    "     and F1 Scores as 90%. Model performance has been improved by 10%\n",
    "   - Original dataset has 18 features and using PCA we have reduced the feature dimensions significantly with 90% variance           explained with just 5 PCA components and the data doesnt seem to be over fitting.\n",
    "   - Recommended model is to use SVC classifier using GridSearch on PCA data for otimal performance."
   ]
  },
  {
   "cell_type": "markdown",
   "id": "a4c95c42",
   "metadata": {},
   "source": [
    "### Q5:  Data Understanding & Cleaning:\n",
    "#### Q5A:  Explain pre-requisite/assumptions of PCA."
   ]
  },
  {
   "cell_type": "markdown",
   "id": "4d013b92",
   "metadata": {},
   "source": [
    "Here are some prerequisites and assumptions associated with PCA:\n",
    "\n",
    "**Linear Relationships:** \n",
    "PCA assumes that the relationships among variables in the data are linear. It works well when variables have linear correlations or can be well approximated by linear relationships.\n",
    "\n",
    "**Large Variance Directions:** \n",
    "PCA assumes that the directions in the feature space with the highest variance are the most important. It seeks to find orthogonal axes (principal components) along which the variance is maximized.\n",
    "\n",
    "**Zero Mean:**\n",
    "PCA assumes that the data is centered around zero mean. Before applying PCA, it's important to subtract the mean from each feature so that the data is centered.\n",
    "\n",
    "**Homoscedasticity:**\n",
    "PCA works best with data that has a constant variance across all features. If the variance is not constant, scaling the data (standardization or normalization) can help to make it homoscedastic.\n",
    "\n",
    "**Orthogonality of Components:**\n",
    "PCA assumes that the principal components (new feature axes) are orthogonal to each other. This orthogonality property simplifies the interpretation and enhances computational efficiency.\n",
    "\n",
    "**Large Data Variability:**\n",
    "PCA works best when the data exhibits significant variability. If the data has very low variability, PCA may not be effective in capturing meaningful patterns.\n",
    "\n",
    "**Independence:**\n",
    "Although PCA does not require the variables to be statistically independent, it works better when the variables are less correlated. However, PCA can still be applied to correlated data to reduce dimensionality.\n",
    "\n",
    "**Numeric Data:**\n",
    "PCA is typically applied to numeric data. Categorical variables may need to be converted to numeric format or preprocessed separately before applying PCA.\n",
    "\n",
    "**Sample Size:**\n",
    "While PCA can be applied to datasets of various sizes, it becomes more reliable with larger sample sizes. Small datasets may not capture the full variability of the data.\n",
    "\n",
    "**Euclidean Space:**\n",
    "PCA operates in the Euclidean space. Therefore, the data should be amenable to the concept of distance in Euclidean space."
   ]
  },
  {
   "cell_type": "markdown",
   "id": "8d9c7c3a",
   "metadata": {},
   "source": [
    "#### Q5B:  Explain advantages and limitations of PCA."
   ]
  },
  {
   "cell_type": "markdown",
   "id": "7892ee7a",
   "metadata": {},
   "source": [
    "Principal Component Analysis (PCA) offers several advantages and has certain limitations when applied in machine learning tasks. Here's a breakdown of both:\n",
    "\n",
    "##### Advantages of PCA:\n",
    "**Dimensionality Reduction**: PCA reduces the dimensionality of the data by transforming it into a lower-dimensional space while preserving most of the variance. This helps in simplifying the computational complexity of algorithms and mitigating the curse of dimensionality.\n",
    "\n",
    "**Feature Extraction:** PCA extracts a set of linearly uncorrelated features called principal components, which are linear combinations of the original features. These components often capture the most significant patterns and structures in the data, making them useful for analysis and modeling.\n",
    "\n",
    "**Noise Reduction:** PCA can help in filtering out noise and retaining the most important signal present in the data. By focusing on the directions of maximum variance, PCA effectively emphasizes the informative features while minimizing the influence of noisy or irrelevant features.\n",
    "\n",
    "**Visualization:** PCA facilitates data visualization by projecting high-dimensional data onto a lower-dimensional subspace. This allows for easy interpretation and exploration of the data's structure, especially in two or three dimensions.\n",
    "\n",
    "**Computationally Efficient:** PCA involves eigenvalue decomposition or singular value decomposition of the covariance matrix, which can be efficiently computed using numerical libraries. Therefore, PCA is computationally efficient and scalable to large datasets.\n",
    "\n",
    "##### Limitations of PCA:\n",
    "**Linearity Assumption:** PCA assumes that the relationships among variables are linear. It may not perform optimally if the underlying data relationships are highly nonlinear. \n",
    "\n",
    "**Loss of Interpretability:** While PCA reduces the dimensionality of the data, it may lead to a loss of interpretability as the principal components are combinations of the original features. Interpreting the principal components in terms of the original features can be challenging, especially in high-dimensional spaces.\n",
    "\n",
    "**Orthogonal Transformation:** PCA performs an orthogonal transformation to find the principal components, which may not always capture the most meaningful directions in the data. \n",
    "\n",
    "**Sensitive to Scaling:** PCA is sensitive to the scaling of features. Features with larger scales may dominate the variance and influence the principal components disproportionately. It's essential to standardize or normalize the data before applying PCA to ensure that all features contribute equally.\n",
    "\n",
    "**Data Interpretation:** While PCA is effective for reducing dimensionality and finding patterns in the data, it does not inherently provide insights into causality or relationships between variables. Interpretation of the principal components requires domain knowledge and careful consideration of the context."
   ]
  },
  {
   "cell_type": "code",
   "execution_count": null,
   "id": "9f95a344",
   "metadata": {},
   "outputs": [],
   "source": []
  }
 ],
 "metadata": {
  "kernelspec": {
   "display_name": "Python 3 (ipykernel)",
   "language": "python",
   "name": "python3"
  },
  "language_info": {
   "codemirror_mode": {
    "name": "ipython",
    "version": 3
   },
   "file_extension": ".py",
   "mimetype": "text/x-python",
   "name": "python",
   "nbconvert_exporter": "python",
   "pygments_lexer": "ipython3",
   "version": "3.11.4"
  }
 },
 "nbformat": 4,
 "nbformat_minor": 5
}
